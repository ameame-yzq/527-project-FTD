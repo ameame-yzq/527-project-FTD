{
 "cells": [
  {
   "cell_type": "code",
   "execution_count": 12,
   "id": "068de4d1",
   "metadata": {},
   "outputs": [
    {
     "name": "stderr",
     "output_type": "stream",
     "text": [
      "/opt/anaconda3/lib/python3.9/site-packages/sklearn/base.py:450: UserWarning: X does not have valid feature names, but IsolationForest was fitted with feature names\n",
      "  warnings.warn(\n"
     ]
    }
   ],
   "source": [
    "import pandas as pd\n",
    "from sklearn.ensemble import IsolationForest\n",
    "from sklearn.preprocessing import StandardScaler\n",
    "from sklearn.svm import OneClassSVM\n",
    "from sklearn.model_selection import cross_val_score\n",
    "from sklearn.linear_model import LinearRegression\n",
    "from sklearn.metrics import make_scorer, r2_score\n",
    "\n",
    "# Load the dataset\n",
    "file_path = 'Movies_new_FTD_to_detect_outlier.csv'\n",
    "movies_df = pd.read_csv(file_path)\n",
    "\n",
    "# Selecting the numerical columns\n",
    "numerical_cols = ['budget', 'popularity', 'runtime', 'vote_average', 'vote_count']\n",
    "\n",
    "# Outlier Detection with Isolation Forest\n",
    "iso_forest = IsolationForest(contamination=0.05, random_state=42)\n",
    "iso_forest_preds = iso_forest.fit_predict(movies_df[numerical_cols])\n",
    "iso_forest_outliers = movies_df[iso_forest_preds == -1]\n",
    "\n",
    "# Outlier Detection with One-Class SVM\n",
    "scaler = StandardScaler()\n",
    "scaled_data = scaler.fit_transform(movies_df[numerical_cols])\n",
    "one_class_svm = OneClassSVM(nu=0.05, kernel=\"rbf\", gamma=0.01)\n",
    "svm_preds = one_class_svm.fit_predict(scaled_data)\n",
    "svm_outliers = movies_df[svm_preds == -1]\n",
    "\n",
    "# Outlier Detection with IQR\n",
    "def detect_outliers_iqr(data, column):\n",
    "    Q1 = data[column].quantile(0.25)\n",
    "    Q3 = data[column].quantile(0.75)\n",
    "    IQR = Q3 - Q1\n",
    "    outlier_mask = (data[column] < (Q1 - 1.5 * IQR)) | (data[column] > (Q3 + 1.5 * IQR))\n",
    "    return data[outlier_mask]\n",
    "\n",
    "# Removing outliers\n",
    "movies_no_outliers_iso_forest = movies_df.drop(iso_forest_outliers.index)\n",
    "movies_no_outliers_svm = movies_df.drop(svm_outliers.index)\n",
    "movies_no_outliers_iqr = movies_df.copy()\n",
    "for col in numerical_cols:\n",
    "    outliers = detect_outliers_iqr(movies_no_outliers_iqr, col)\n",
    "    movies_no_outliers_iqr.drop(outliers.index, inplace=True)"
   ]
  },
  {
   "cell_type": "code",
   "execution_count": 13,
   "id": "fd0ab33c",
   "metadata": {},
   "outputs": [
    {
     "data": {
      "text/plain": [
       "(0.9993265993265993, 0.9993265993265993, 0.9991967871485944)"
      ]
     },
     "execution_count": 13,
     "metadata": {},
     "output_type": "execute_result"
    }
   ],
   "source": [
    "from sklearn.tree import DecisionTreeClassifier\n",
    "from sklearn.metrics import accuracy_score\n",
    "\n",
    "# Creating the new target column 'roi'\n",
    "movies_df['roi'] = (movies_df['revenue'] - movies_df['budget']) / movies_df['budget'] * 100\n",
    "movies_df['roi_category'] = pd.cut(movies_df['roi'], bins=[-float('inf'), 100, 200, float('inf')], \n",
    "                                   labels=['Failed', 'Qualified', 'Successful'])\n",
    "\n",
    "# Selecting only numeric columns for the classification model\n",
    "movies_numeric_classification = movies_df.select_dtypes(include=['float64', 'int64'])\n",
    "\n",
    "# Adding the new categorical target column to the dataset\n",
    "movies_numeric_classification['roi_category'] = movies_df['roi_category']\n",
    "\n",
    "# New target column for the classification task\n",
    "target_column_classification = 'roi_category'\n",
    "\n",
    "# Removing outliers from the numeric dataset for each method\n",
    "# Isolation Forest\n",
    "movies_no_outliers_iso_forest_class = movies_numeric_classification.drop(iso_forest_outliers.index)\n",
    "\n",
    "# One-Class SVM\n",
    "movies_no_outliers_svm_class = movies_numeric_classification.drop(svm_outliers.index)\n",
    "\n",
    "# IQR\n",
    "movies_no_outliers_iqr_class = movies_numeric_classification.copy()\n",
    "for col in numerical_cols:\n",
    "    outliers = detect_outliers_iqr(movies_no_outliers_iqr_class, col)\n",
    "    movies_no_outliers_iqr_class.drop(outliers.index, inplace=True)\n",
    "\n",
    "# Function to perform cross-validation for classification\n",
    "def perform_classification_cv(data, target_column, model, cv=10):\n",
    "    # Extracting target and features\n",
    "    X = data.drop(target_column, axis=1)\n",
    "    y = data[target_column]\n",
    "\n",
    "    # Performing cross-validation\n",
    "    scores = cross_val_score(model, X, y, cv=cv, scoring='accuracy')\n",
    "    return scores.mean()\n",
    "\n",
    "# Initialize the decision tree classifier\n",
    "dt_classifier = DecisionTreeClassifier()\n",
    "\n",
    "# Perform cross-validation and calculate average accuracy score for each dataset\n",
    "cv_score_iso_forest_class = perform_classification_cv(movies_no_outliers_iso_forest_class, target_column_classification, dt_classifier)\n",
    "cv_score_svm_class = perform_classification_cv(movies_no_outliers_svm_class, target_column_classification, dt_classifier)\n",
    "cv_score_iqr_class = perform_classification_cv(movies_no_outliers_iqr_class, target_column_classification, dt_classifier)\n",
    "\n",
    "cv_score_iso_forest_class, cv_score_svm_class, cv_score_iqr_class\n"
   ]
  },
  {
   "cell_type": "code",
   "execution_count": null,
   "id": "5dbe19cf",
   "metadata": {},
   "outputs": [],
   "source": []
  }
 ],
 "metadata": {
  "kernelspec": {
   "display_name": "Python 3 (ipykernel)",
   "language": "python",
   "name": "python3"
  },
  "language_info": {
   "codemirror_mode": {
    "name": "ipython",
    "version": 3
   },
   "file_extension": ".py",
   "mimetype": "text/x-python",
   "name": "python",
   "nbconvert_exporter": "python",
   "pygments_lexer": "ipython3",
   "version": "3.9.12"
  }
 },
 "nbformat": 4,
 "nbformat_minor": 5
}
